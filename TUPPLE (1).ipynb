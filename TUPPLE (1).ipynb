{
  "nbformat": 4,
  "nbformat_minor": 0,
  "metadata": {
    "colab": {
      "provenance": []
    },
    "kernelspec": {
      "name": "python3",
      "display_name": "Python 3"
    },
    "language_info": {
      "name": "python"
    }
  },
  "cells": [
    {
      "cell_type": "code",
      "source": [],
      "metadata": {
        "id": "AcZ5A1yMzJ7U"
      },
      "execution_count": null,
      "outputs": []
    },
    {
      "cell_type": "code",
      "execution_count": 1,
      "metadata": {
        "colab": {
          "base_uri": "https://localhost:8080/"
        },
        "id": "JfH19KGDzEK9",
        "outputId": "b77d5c0a-fa9b-48d4-e388-f60730df2a8f"
      },
      "outputs": [
        {
          "output_type": "stream",
          "name": "stdout",
          "text": [
            "('English', 'Urdr', 'Mathematics', 'Islamyat', 'Pak-study')\n",
            "<class 'tuple'>\n",
            "5\n",
            "Pak-study\n"
          ]
        }
      ],
      "source": [
        "#TOPIC : TUPLES\n",
        "# Note: Tuple,string are immutable and lists are mutable\n",
        "subj =(\"English\",\"Urdr\",\"Mathematics\",\"Islamyat\",\"Pak-study\")\n",
        "print(subj)\n",
        "print(type(subj)) # type\n",
        "print(len(subj))  # len\n",
        "print(subj[4])    # index"
      ]
    },
    {
      "cell_type": "code",
      "source": [
        "# At the end single value in tuple must put comma(,) , otherwise it will be an integer\n",
        "a = (4,)\n",
        "print(a)\n",
        "print(type(a))"
      ],
      "metadata": {
        "colab": {
          "base_uri": "https://localhost:8080/"
        },
        "id": "7vrmqvJNzLSU",
        "outputId": "5226888f-3275-4e00-d239-fecc7e56d9fc"
      },
      "execution_count": 2,
      "outputs": [
        {
          "output_type": "stream",
          "name": "stdout",
          "text": [
            "(4,)\n",
            "<class 'tuple'>\n"
          ]
        }
      ]
    },
    {
      "cell_type": "code",
      "source": [
        "# similarly\n",
        "b = (\"Hello Word!\",)\n",
        "print(b)\n",
        "print(type(b))"
      ],
      "metadata": {
        "colab": {
          "base_uri": "https://localhost:8080/"
        },
        "id": "ch3nDW23zSz4",
        "outputId": "257a46e0-7900-4379-c560-318e790a079b"
      },
      "execution_count": 3,
      "outputs": [
        {
          "output_type": "stream",
          "name": "stdout",
          "text": [
            "('Hello Word!',)\n",
            "<class 'tuple'>\n"
          ]
        }
      ]
    },
    {
      "cell_type": "code",
      "source": [
        "\n",
        "# Slicing concept in Tuple\n",
        "slice = (22,33,44,55,66,77,88,)\n",
        "print(\"slice:\",slice)\n",
        "print(\"slice:\",slice[0:6])\n",
        "print(\"slice:\",slice[3:6])"
      ],
      "metadata": {
        "colab": {
          "base_uri": "https://localhost:8080/"
        },
        "id": "-etYSsD-zX4o",
        "outputId": "dff4eb7a-2dd3-4b9d-b03d-2fbd1bd45487"
      },
      "execution_count": 4,
      "outputs": [
        {
          "output_type": "stream",
          "name": "stdout",
          "text": [
            "slice: (22, 33, 44, 55, 66, 77, 88)\n",
            "slice: (22, 33, 44, 55, 66, 77)\n",
            "slice: (55, 66, 77)\n"
          ]
        }
      ]
    },
    {
      "cell_type": "code",
      "source": [
        "# Index Method\n",
        "data = (123,321,456,765,765,676,334,123,330)\n",
        "print(data.index(321))"
      ],
      "metadata": {
        "colab": {
          "base_uri": "https://localhost:8080/"
        },
        "id": "TYcRk1gszeUx",
        "outputId": "cd71b2f3-0ddf-4734-a28f-8d9fdf9b03cf"
      },
      "execution_count": 6,
      "outputs": [
        {
          "output_type": "stream",
          "name": "stdout",
          "text": [
            "1\n"
          ]
        }
      ]
    },
    {
      "cell_type": "code",
      "source": [
        "\n",
        "# count Method\n",
        "data2 = (111,222,333,444,555,111,666,)\n",
        "print(data2.count(111))"
      ],
      "metadata": {
        "colab": {
          "base_uri": "https://localhost:8080/"
        },
        "id": "nVabyiERzoqW",
        "outputId": "2bccb2d1-fd9a-4e2d-d6db-e8b046aecc70"
      },
      "execution_count": 5,
      "outputs": [
        {
          "output_type": "stream",
          "name": "stdout",
          "text": [
            "2\n"
          ]
        }
      ]
    }
  ]
}